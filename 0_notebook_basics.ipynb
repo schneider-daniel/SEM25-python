{
 "cells": [
  {
   "cell_type": "markdown",
   "metadata": {
    "colab_type": "text",
    "id": "view-in-github"
   },
   "source": [
    "<a href=\"https://colab.research.google.com/github/lnxdxC/DSKI/blob/main/L01_colab_basics.ipynb\" target=\"_parent\"><img src=\"https://colab.research.google.com/assets/colab-badge.svg\" alt=\"Open In Colab\"/></a>"
   ]
  },
  {
   "cell_type": "markdown",
   "metadata": {
    "id": "iLF0yPjJLcAn"
   },
   "source": [
    "# First heading, using markdown-syntax"
   ]
  },
  {
   "cell_type": "markdown",
   "metadata": {
    "id": "DI9hbLHuJt6m"
   },
   "source": [
    "You can easily write notes, describe your code or show equations by using LaTeX\n",
    "\n",
    "\\begin{align}\n",
    "  e^{i \\pi} + 1 = 0\n",
    "\\end{align}"
   ]
  },
  {
   "cell_type": "code",
   "execution_count": null,
   "metadata": {
    "colab": {
     "base_uri": "https://localhost:8080/"
    },
    "id": "tgmM9dcIJtqr",
    "outputId": "347e7cc8-65bb-499d-a51d-4d97bc7bd2da"
   },
   "outputs": [],
   "source": [
    "print('hello world!')"
   ]
  },
  {
   "cell_type": "markdown",
   "metadata": {
    "id": "f5GxMgkAMCuy"
   },
   "source": [
    "## Declaring a variable"
   ]
  },
  {
   "cell_type": "code",
   "execution_count": null,
   "metadata": {
    "colab": {
     "base_uri": "https://localhost:8080/"
    },
    "id": "BxT2I2K9MJrM",
    "outputId": "8e11be98-b951-474d-a584-9c4ebd313209"
   },
   "outputs": [],
   "source": [
    "var = 42\n",
    "print(var)"
   ]
  },
  {
   "cell_type": "markdown",
   "metadata": {
    "id": "NdO-CmZ7LrOO"
   },
   "source": [
    "### Floating point"
   ]
  },
  {
   "cell_type": "code",
   "execution_count": null,
   "metadata": {
    "id": "CGzU1purKS0t"
   },
   "outputs": [],
   "source": [
    "f_var = 4.2"
   ]
  },
  {
   "cell_type": "code",
   "execution_count": null,
   "metadata": {
    "id": "9ySs-6m5NNhW"
   },
   "outputs": [],
   "source": []
  }
 ],
 "metadata": {
  "colab": {
   "authorship_tag": "ABX9TyPFJSZs1sL7kLqsYLJ3/HWR",
   "collapsed_sections": [],
   "include_colab_link": true,
   "name": "Untitled0.ipynb",
   "provenance": [],
   "toc_visible": true
  },
  "kernelspec": {
   "display_name": ".venv",
   "language": "python",
   "name": "python3"
  },
  "language_info": {
   "codemirror_mode": {
    "name": "ipython",
    "version": 3
   },
   "file_extension": ".py",
   "mimetype": "text/x-python",
   "name": "python",
   "nbconvert_exporter": "python",
   "pygments_lexer": "ipython3",
   "version": "3.9.21"
  }
 },
 "nbformat": 4,
 "nbformat_minor": 4
}
